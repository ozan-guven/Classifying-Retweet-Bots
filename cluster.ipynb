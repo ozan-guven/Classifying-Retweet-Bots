{
 "cells": [
  {
   "cell_type": "markdown",
   "metadata": {},
   "source": [
    "# Clustering users"
   ]
  },
  {
   "cell_type": "code",
   "execution_count": null,
   "metadata": {},
   "outputs": [],
   "source": [
    "import numpy as np\n",
    "import pandas as pd\n",
    "\n",
    "import matplotlib.pyplot as plt\n",
    "from matplotlib.pyplot import cm\n",
    "\n",
    "import sklearn\n",
    "from sklearn import metrics\n",
    "from sklearn.cluster import DBSCAN\n",
    "from sklearn.cluster import OPTICS\n",
    "from sklearn.cluster import BisectingKMeans\n",
    "from scipy.cluster.hierarchy import dendrogram\n",
    "from sklearn.cluster import AgglomerativeClustering\n",
    "\n",
    "from sklearn.semi_supervised import SelfTrainingClassifier\n",
    "from sklearn.svm import SVC\n",
    "from sklearn.semi_supervised import LabelPropagation\n",
    "from sklearn.semi_supervised import LabelSpreading\n",
    "\n",
    "from sklearn.metrics import davies_bouldin_score\n",
    "from sklearn import datasets\n",
    "from sklearn.metrics import pairwise_distances\n",
    "from sklearn.cluster import KMeans\n",
    "from mpl_toolkits.mplot3d import Axes3D\n",
    "from sklearn.preprocessing import scale\n",
    "from sklearn.preprocessing import StandardScaler\n",
    "from sklearn.decomposition import PCA\n",
    "\n",
    "import json\n",
    "import ast\n",
    "\n",
    "import datetime\n",
    "from dateutil import parser\n",
    "\n",
    "import re\n",
    "\n",
    "import bz2\n",
    "\n",
    "from sklearn.datasets import make_blobs\n",
    "from sklearn.cluster import KMeans\n",
    "from sklearn.metrics import silhouette_samples, silhouette_score\n",
    "\n",
    "#from profanity_check import predict, predict_prob\n",
    "#from better_profanity import profanity\n",
    "\n",
    "#from feature_creation import create"
   ]
  },
  {
   "cell_type": "markdown",
   "metadata": {},
   "source": [
    "## Analyze the features from users"
   ]
  },
  {
   "cell_type": "code",
   "execution_count": null,
   "metadata": {},
   "outputs": [],
   "source": [
    "df_id = pd.read_csv(\"new_outputs/all_user_features.csv\")\n",
    "#df = pd.read_csv(\"new_outputs/user_features_20220601.csv\")\n",
    "#df = df.append(pd.read_csv(\"new_outputs/user_features.csv\"))\n",
    "\n",
    "df_guesses = pd.read_csv(\"new_outputs/guesses.csv\", dtype=str)"
   ]
  },
  {
   "cell_type": "code",
   "execution_count": null,
   "metadata": {},
   "outputs": [],
   "source": [
    "# len(df[df[\"avg_num_lists_per_day\"] == float('inf')])\n",
    "# df[\"avg_num_lists_per_day\"] = df[\"n_lists\"] / df[\"days_since_creation\"]\n",
    "# df.to_csv(\"new_outputs/all_user_features.csv\", index=False)"
   ]
  },
  {
   "cell_type": "code",
   "execution_count": null,
   "metadata": {},
   "outputs": [],
   "source": [
    "df = df_id.drop(['stream_date', 'uid'], axis=1)"
   ]
  },
  {
   "cell_type": "code",
   "execution_count": null,
   "metadata": {},
   "outputs": [],
   "source": [
    "df_id.loc[(df_id['mean_jaro_winkler_similarity'] >= 0.8) & (df_id['rt_ratio'] >= 0.8)]"
   ]
  },
  {
   "cell_type": "code",
   "execution_count": null,
   "metadata": {},
   "outputs": [],
   "source": [
    "df"
   ]
  },
  {
   "cell_type": "code",
   "execution_count": null,
   "metadata": {},
   "outputs": [],
   "source": [
    "df = df.loc[df['rt_ratio'] >= 0.8]\n",
    "df_id = df_id.loc[df_id['rt_ratio'] >= 0.8]"
   ]
  },
  {
   "cell_type": "code",
   "execution_count": null,
   "metadata": {},
   "outputs": [],
   "source": [
    "labels = []\n",
    "ids = df_id['uid'].to_numpy(dtype=str)\n",
    "gus = df_guesses['user_id'].to_numpy(dtype=str)\n",
    "\n",
    "for elem in ids:\n",
    "    if elem in gus:\n",
    "        labels.append(0)\n",
    "    elif \"1468620673115373569\" == elem or \"1327935633445199874\" == elem or \"1511590589405536259\" == elem:\n",
    "        labels.append(1)\n",
    "    else:\n",
    "        labels.append(-1)\n",
    "y = np.array(labels)"
   ]
  },
  {
   "cell_type": "code",
   "execution_count": null,
   "metadata": {},
   "outputs": [],
   "source": [
    "def plot_dendrogram(model, **kwargs):\n",
    "    # Create linkage matrix and then plot the dendrogram\n",
    "\n",
    "    # create the counts of samples under each node\n",
    "    counts = np.zeros(model.children_.shape[0])\n",
    "    n_samples = len(model.labels_)\n",
    "    for i, merge in enumerate(model.children_):\n",
    "        current_count = 0\n",
    "        for child_idx in merge:\n",
    "            if child_idx < n_samples:\n",
    "                current_count += 1  # leaf node\n",
    "            else:\n",
    "                current_count += counts[child_idx - n_samples]\n",
    "        counts[i] = current_count\n",
    "\n",
    "    linkage_matrix = np.column_stack(\n",
    "        [model.children_, model.distances_, counts]\n",
    "    ).astype(float)\n",
    "\n",
    "    # Plot the corresponding dendrogram\n",
    "    dendrogram(linkage_matrix, **kwargs)"
   ]
  },
  {
   "cell_type": "code",
   "execution_count": null,
   "metadata": {},
   "outputs": [],
   "source": [
    "N_CLUSTERS = 2\n",
    "#clustering = KMeans(n_clusters=N_CLUSTERS, random_state=5)\n",
    "#clustering = BisectingKMeans(n_clusters=N_CLUSTERS, random_state=5)\n",
    "clustering = AgglomerativeClustering(n_clusters=N_CLUSTERS)\n",
    "\n",
    "# svc = SVC(probability=True, gamma=\"auto\")\n",
    "# clustering = SelfTrainingClassifier(svc)\n",
    "# clustering = LabelPropagation()\n",
    "# clustering = LabelSpreading(n_neighbors=2, gamma=0.1, alpha=0.0001,max_iter=100, tol=1e-8)\n",
    "\n",
    "names = df.columns\n",
    "scaler = StandardScaler()\n",
    "scaled_df = scaler.fit_transform(df)\n",
    "scaled_df = pd.DataFrame(scaled_df, columns=names)\n",
    "# Used to remove outliars\n",
    "# scaled_df = scaled_df.loc[scaled_df['avg_rt_on_tweets'] <= 6]\n",
    "\n",
    "X = scaled_df.to_numpy()\n",
    "# Apply PCA such that 95% of the variance is retained\n",
    "\n",
    "#pca = PCA(0.95)\n",
    "#pca.fit(X)\n",
    "#print(pca.n_components_)\n",
    "#X = pca.transform(X)\n",
    "\n",
    "clustering.fit(X, y)\n",
    "\n",
    "model = clustering.fit(X, y)\n",
    "\n",
    "# plt.figure(figsize=(16,9))\n",
    "# plt.title(\"Hierarchical Clustering Dendrogram\")\n",
    "# # plot the top three levels of the dendrogram\n",
    "# plot_dendrogram(model, truncate_mode=\"level\", p=3)\n",
    "# plt.xlabel(\"Number of points in node (or index of point if no parenthesis).\")\n",
    "# #plt.savefig('dendorgam.png', facecolor=\"white\")\n",
    "# plt.show()"
   ]
  },
  {
   "cell_type": "code",
   "execution_count": null,
   "metadata": {},
   "outputs": [],
   "source": [
    "labels = model.fit_predict(X)"
   ]
  },
  {
   "cell_type": "code",
   "execution_count": null,
   "metadata": {},
   "outputs": [],
   "source": [
    "df_idnp = df_id['uid'].to_numpy(dtype=str)\n",
    "for l, id in zip(labels, df_idnp):\n",
    "    print(l)\n",
    "    if id in [\"1468620673115373569\", \"1327935633445199874\", \"1511590589405536259\"]:\n",
    "        pass\n",
    "        #print(l)"
   ]
  },
  {
   "cell_type": "code",
   "execution_count": null,
   "metadata": {},
   "outputs": [],
   "source": [
    "range_n_clusters = [2, 3, 4, 5, 6]\n",
    "\n",
    "for n_clusters in range_n_clusters:\n",
    "    # Create a subplot with 1 row and 2 columns\n",
    "    fig, (ax1, ax2) = plt.subplots(1, 2)\n",
    "    fig.set_size_inches(18, 7)\n",
    "\n",
    "    # The 1st subplot is the silhouette plot\n",
    "    # The silhouette coefficient can range from -1, 1 but in this example all\n",
    "    # lie within [-0.1, 1]\n",
    "    ax1.set_xlim([-0.1, 1])\n",
    "    # The (n_clusters+1)*10 is for inserting blank space between silhouette\n",
    "    # plots of individual clusters, to demarcate them clearly.\n",
    "    ax1.set_ylim([0, len(X) + (n_clusters + 1) * 10])\n",
    "\n",
    "    # Initialize the clusterer with n_clusters value and a random generator\n",
    "    # seed of 10 for reproducibility.\n",
    "    clusterer = OPTICS(max_eps=10*n_clusters)\n",
    "    cluster_labels = clusterer.fit_predict(X)\n",
    "\n",
    "    # The silhouette_score gives the average value for all the samples.\n",
    "    # This gives a perspective into the density and separation of the formed\n",
    "    # clusters\n",
    "    silhouette_avg = silhouette_score(X, cluster_labels)\n",
    "    print(\n",
    "        \"For n_clusters =\",\n",
    "        n_clusters,\n",
    "        \"The average silhouette_score is :\",\n",
    "        silhouette_avg,\n",
    "    )\n",
    "\n",
    "    # Compute the silhouette scores for each sample\n",
    "    sample_silhouette_values = silhouette_samples(X, cluster_labels)\n",
    "\n",
    "    y_lower = 10\n",
    "    for i in range(n_clusters):\n",
    "        # Aggregate the silhouette scores for samples belonging to\n",
    "        # cluster i, and sort them\n",
    "        ith_cluster_silhouette_values = sample_silhouette_values[cluster_labels == i]\n",
    "\n",
    "        ith_cluster_silhouette_values.sort()\n",
    "\n",
    "        size_cluster_i = ith_cluster_silhouette_values.shape[0]\n",
    "        y_upper = y_lower + size_cluster_i\n",
    "\n",
    "        color = cm.nipy_spectral(float(i) / n_clusters)\n",
    "        ax1.fill_betweenx(\n",
    "            np.arange(y_lower, y_upper),\n",
    "            0,\n",
    "            ith_cluster_silhouette_values,\n",
    "            facecolor=color,\n",
    "            edgecolor=color,\n",
    "            alpha=0.7,\n",
    "        )\n",
    "\n",
    "        # Label the silhouette plots with their cluster numbers at the middle\n",
    "        ax1.text(-0.05, y_lower + 0.5 * size_cluster_i, str(i))\n",
    "\n",
    "        # Compute the new y_lower for next plot\n",
    "        y_lower = y_upper + 10  # 10 for the 0 samples\n",
    "\n",
    "    ax1.set_title(\"The silhouette plot for the various clusters.\")\n",
    "    ax1.set_xlabel(\"The silhouette coefficient values\")\n",
    "    ax1.set_ylabel(\"Cluster label\")\n",
    "\n",
    "    # The vertical line for average silhouette score of all the values\n",
    "    ax1.axvline(x=silhouette_avg, color=\"red\", linestyle=\"--\")\n",
    "\n",
    "    ax1.set_yticks([])  # Clear the yaxis labels / ticks\n",
    "    ax1.set_xticks([-0.1, 0, 0.2, 0.4, 0.6, 0.8, 1])\n",
    "\n",
    "    # # 2nd Plot showing the actual clusters formed\n",
    "    # colors = cm.nipy_spectral(cluster_labels.astype(float) / n_clusters)\n",
    "    # ax2.scatter(\n",
    "    #     X[:, 0], X[:, 1], marker=\".\", s=30, lw=0, alpha=0.7, c=colors, edgecolor=\"k\"\n",
    "    # )\n",
    "\n",
    "    # # Labeling the clusters\n",
    "    # centers = clusterer.cluster_centers_\n",
    "    # # Draw white circles at cluster centers\n",
    "    # ax2.scatter(\n",
    "    #     centers[:, 0],\n",
    "    #     centers[:, 1],\n",
    "    #     marker=\"o\",\n",
    "    #     c=\"white\",\n",
    "    #     alpha=1,\n",
    "    #     s=200,\n",
    "    #     edgecolor=\"k\",\n",
    "    # )\n",
    "\n",
    "    # for i, c in enumerate(centers):\n",
    "    #     ax2.scatter(c[0], c[1], marker=\"$%d$\" % i, alpha=1, s=50, edgecolor=\"k\")\n",
    "\n",
    "    # ax2.set_title(\"The visualization of the clustered data.\")\n",
    "    # ax2.set_xlabel(\"Feature space for the 1st feature\")\n",
    "    # ax2.set_ylabel(\"Feature space for the 2nd feature\")\n",
    "\n",
    "    # plt.suptitle(\n",
    "    #     \"Silhouette analysis for KMeans clustering on sample data with n_clusters = %d\"\n",
    "    #     % n_clusters,\n",
    "    #     fontsize=14,\n",
    "    #     fontweight=\"bold\",\n",
    "    # )\n",
    "\n",
    "plt.show()"
   ]
  },
  {
   "cell_type": "code",
   "execution_count": null,
   "metadata": {},
   "outputs": [],
   "source": [
    "len(labels[labels == 0])"
   ]
  },
  {
   "cell_type": "code",
   "execution_count": null,
   "metadata": {},
   "outputs": [],
   "source": [
    "guesses = df_guesses[\"user_id\"].to_numpy()\n",
    "\n",
    "index_class_1 = np.where(model.labels_ == 2)\n",
    "classified = df_id.iloc[index_class_1][\"uid\"].to_numpy(dtype=str)\n",
    "\n",
    "count = 0\n",
    "for i in guesses:\n",
    "    count += i in classified\n",
    "\n",
    "print(count, len(model.labels_[model.labels_ == 0]))"
   ]
  },
  {
   "cell_type": "code",
   "execution_count": null,
   "metadata": {},
   "outputs": [],
   "source": [
    "np_labels = np.array(labels == 0)\n",
    "np.array(labels == 0)"
   ]
  },
  {
   "cell_type": "code",
   "execution_count": null,
   "metadata": {},
   "outputs": [],
   "source": [
    "pairs = {(x, y) for x in df.columns for y in df.columns if \"context_domain\" not in x and \"context_domain\" not in y and \"lang\" not in x and \"lang\" not in y}\n",
    "len(pairs)"
   ]
  },
  {
   "cell_type": "code",
   "execution_count": null,
   "metadata": {},
   "outputs": [],
   "source": [
    "Y = df.to_numpy()\n",
    "count=0\n",
    "ALPHA = 0.5\n",
    "#for x_feature, y_feature in pairs:\n",
    "x_feature = \"mean_lcs\"\n",
    "y_feature = \"avg_rt_on_tweets\"\n",
    "\n",
    "plt.figure(figsize=(16,9))\n",
    "\n",
    "plt.xlabel(x_feature)\n",
    "plt.ylabel(y_feature)\n",
    "\n",
    "CLASS_1 = 0\n",
    "CLASS_2 = 1\n",
    "\n",
    "dataframe = scaled_df\n",
    "labels = clustering.labels_\n",
    "\n",
    "if N_CLUSTERS == 3:\n",
    "    plt.scatter(dataframe[x_feature].to_numpy()[labels == 2], dataframe[y_feature].to_numpy()[labels == 2], c='g', alpha=ALPHA, label=f\"{len(dataframe[x_feature].to_numpy()[labels == 2])} users\")\n",
    "plt.scatter(dataframe[x_feature].to_numpy()[labels == 0], dataframe[y_feature].to_numpy()[labels == 0], c='r', alpha=ALPHA, label=f\"{len(dataframe[x_feature].to_numpy()[labels == 0])} users\")\n",
    "plt.scatter(dataframe[x_feature].to_numpy()[labels == 1], dataframe[y_feature].to_numpy()[labels == 1], c='b', alpha=ALPHA, label=f\"{len(dataframe[x_feature].to_numpy()[labels == 1])} users\")\n",
    "\n",
    "# IF WE WANT TO USE FITERING\n",
    "# CLASS_1 = 0\n",
    "# CLASS_2 = 1\n",
    "\n",
    "# filter = scaled_df[y_feature] < 12\n",
    "# dataframe = scaled_df[filter]\n",
    "# f_labels = labels[np.where(filter)]\n",
    "\n",
    "# if N_CLUSTERS == 3:\n",
    "#     plt.scatter(dataframe[x_feature].to_numpy()[f_labels == 2], dataframe[y_feature].to_numpy()[f_labels == 2], c='g', alpha=ALPHA, label=f\"{len(dataframe[x_feature].to_numpy()[f_labels == 2])} users\")\n",
    "# plt.scatter(dataframe[x_feature].to_numpy()[f_labels == 0], dataframe[y_feature].to_numpy()[f_labels == 0], c='r', alpha=ALPHA, label=f\"{len(dataframe[x_feature].to_numpy()[f_labels == 0])} users\")\n",
    "# plt.scatter(dataframe[x_feature].to_numpy()[f_labels == 1], dataframe[y_feature].to_numpy()[f_labels == 1], c='b', alpha=ALPHA, label=f\"{len(dataframe[x_feature].to_numpy()[f_labels == 1])} users\")\n",
    "\n",
    "plt.legend()\n",
    "\n",
    "plt.savefig(f'{x_feature}_{y_feature}_{N_CLUSTERS}.png', facecolor=\"white\")\n",
    "plt.savefig(f'figs/{x_feature}_{y_feature}_{N_CLUSTERS}.png', facecolor=\"white\")\n",
    "\n",
    "\n",
    "plt.show()\n",
    "plt.clf()\n",
    "plt.close()\n",
    "#print(count)\n",
    "#count+=1\n"
   ]
  },
  {
   "cell_type": "code",
   "execution_count": null,
   "metadata": {},
   "outputs": [],
   "source": [
    "new_df = scaled_df.copy().assign(cls=labels)\n",
    "new_df"
   ]
  },
  {
   "cell_type": "code",
   "execution_count": null,
   "metadata": {},
   "outputs": [],
   "source": [
    "new_df = new_df.loc[:, new_df.any()]\n",
    "new_df"
   ]
  },
  {
   "cell_type": "markdown",
   "metadata": {},
   "source": [
    "# Interactive parallel coordinates"
   ]
  },
  {
   "cell_type": "code",
   "execution_count": null,
   "metadata": {},
   "outputs": [],
   "source": [
    "import plotly.express as px\n",
    "#fig = px.parallel_coordinates(new_df, dimensions=new_df.columns[150:-1], color=\"cls\")\n",
    "fig = px.parallel_coordinates(new_df, dimensions=new_df.columns[0:-1], color=\"cls\")\n",
    "fig.update_layout(width=8000)\n",
    "fig.show(renderer=\"browser\")"
   ]
  },
  {
   "cell_type": "markdown",
   "metadata": {},
   "source": [
    "# Compute the distance of each data point to centroid"
   ]
  },
  {
   "cell_type": "code",
   "execution_count": null,
   "metadata": {},
   "outputs": [],
   "source": [
    "from sklearn.metrics.pairwise import euclidean_distances\n",
    "distances = euclidean_distances(scaled_df, clustering.cluster_centers_)"
   ]
  },
  {
   "cell_type": "code",
   "execution_count": null,
   "metadata": {},
   "outputs": [],
   "source": [
    "max_distance = 20\n",
    "filter_contition = ((distances[:,0] < max_distance) & (distances[:,1] < max_distance))\n",
    "filtered_distances = distances[filter_contition]\n",
    "filtered_distances.shape\n",
    "# 8842-8305 = 537 going to max 20"
   ]
  },
  {
   "cell_type": "code",
   "execution_count": null,
   "metadata": {},
   "outputs": [],
   "source": [
    "plt.figure(figsize=(20,20))\n",
    "plt.title(\"Distance to each cluster\")\n",
    "\n",
    "plt.plot([0,max_distance], [0,max_distance], 'k-')\n",
    "plt.scatter(filtered_distances[:, 0], filtered_distances[:, 1], c=labels[filter_contition])\n",
    "\n",
    "plt.xlabel(\"Class 1\")\n",
    "plt.ylabel(\"Class 2\")\n",
    "\n",
    "#plt.savefig(f'cluster_distances_max_20.png', facecolor=\"white\")\n",
    "\n",
    "plt.show()"
   ]
  },
  {
   "cell_type": "code",
   "execution_count": null,
   "metadata": {},
   "outputs": [],
   "source": []
  },
  {
   "cell_type": "code",
   "execution_count": null,
   "metadata": {},
   "outputs": [],
   "source": [
    "sum_of_squared_distances = []\n",
    "silhouette_coefficient = []\n",
    "calinski_harabasz = []\n",
    "davies_bouldin = []\n",
    "K = range(2,30)\n",
    "for k in K:\n",
    "    km = BisectingKMeans(n_clusters=k, random_state=5)\n",
    "    km = km.fit(X)\n",
    "    silhouette_coefficient.append(metrics.silhouette_score(X, km.labels_, metric='euclidean'))\n",
    "    calinski_harabasz.append(metrics.calinski_harabasz_score(X, km.labels_))\n",
    "    davies_bouldin.append(davies_bouldin_score(X, km.labels_))\n",
    "    sum_of_squared_distances.append(km.inertia_)"
   ]
  },
  {
   "cell_type": "code",
   "execution_count": null,
   "metadata": {},
   "outputs": [],
   "source": [
    "len(df)"
   ]
  },
  {
   "cell_type": "code",
   "execution_count": null,
   "metadata": {},
   "outputs": [],
   "source": [
    "plt.plot(K, davies_bouldin, 'bx-')\n",
    "plt.xlabel('k')\n",
    "plt.ylabel('Davies-Bouldin Index')\n",
    "plt.title('Davies-Bouldin Index For Optimal k')\n",
    "plt.grid()\n",
    "plt.savefig(\"davies_bouldin_all.png\", facecolor=\"white\")\n",
    "plt.show()"
   ]
  },
  {
   "cell_type": "code",
   "execution_count": null,
   "metadata": {},
   "outputs": [],
   "source": [
    "plt.plot(K, calinski_harabasz, 'bx-')\n",
    "plt.xlabel('k')\n",
    "plt.ylabel('Calinski-Harabasz Index')\n",
    "plt.title('Calinski-Harabasz Index For Optimal k')\n",
    "plt.grid()\n",
    "plt.savefig(\"calinski_harabasz_all.png\", facecolor=\"white\")\n",
    "plt.show()"
   ]
  },
  {
   "cell_type": "code",
   "execution_count": null,
   "metadata": {},
   "outputs": [],
   "source": [
    "plt.plot(K, silhouette_coefficient, 'bx-')\n",
    "plt.xlabel('k')\n",
    "plt.ylabel('Silhouette Coefficient')\n",
    "plt.title('Silhouette Coefficient For Optimal k')\n",
    "plt.grid()\n",
    "plt.savefig(\"silhouette_all.png\", facecolor=\"white\")\n",
    "plt.show()"
   ]
  },
  {
   "cell_type": "code",
   "execution_count": null,
   "metadata": {},
   "outputs": [],
   "source": [
    "plt.plot(K, sum_of_squared_distances, 'bx-')\n",
    "plt.xlabel('k')\n",
    "plt.ylabel('Sum_of_squared_distances')\n",
    "plt.title('Elbow Method For Optimal k')\n",
    "plt.grid()\n",
    "plt.savefig(\"elbow_all.png\", facecolor=\"white\")\n",
    "plt.show()"
   ]
  },
  {
   "cell_type": "code",
   "execution_count": null,
   "metadata": {},
   "outputs": [],
   "source": [
    "from scipy.spatial.distance import cdist\n",
    "distortions = []\n",
    "inertias = []\n",
    "mapping1 = {}\n",
    "mapping2 = {}\n",
    "K = range(1, 30)\n",
    "  \n",
    "for k in K:\n",
    "    # Building and fitting the model\n",
    "    kmeanModel = BisectingKMeans(n_clusters=k).fit(X)\n",
    "    kmeanModel.fit(X)\n",
    "  \n",
    "    distortions.append(sum(np.min(cdist(X, kmeanModel.cluster_centers_,\n",
    "                                        'euclidean'), axis=1)) / X.shape[0])\n",
    "    inertias.append(kmeanModel.inertia_)\n",
    "  \n",
    "    mapping1[k] = sum(np.min(cdist(X, kmeanModel.cluster_centers_,\n",
    "                                   'euclidean'), axis=1)) / X.shape[0]\n",
    "    mapping2[k] = kmeanModel.inertia_"
   ]
  },
  {
   "cell_type": "code",
   "execution_count": null,
   "metadata": {},
   "outputs": [],
   "source": [
    "\n",
    "plt.plot(K, distortions, 'bx-')\n",
    "plt.xlabel('Values of K')\n",
    "plt.ylabel('Distortion')\n",
    "plt.title('The Elbow Method using Distortion')\n",
    "plt.grid()\n",
    "plt.savefig(\"distorion_all.png\", facecolor=\"white\")\n",
    "plt.show()"
   ]
  },
  {
   "cell_type": "code",
   "execution_count": null,
   "metadata": {},
   "outputs": [],
   "source": []
  }
 ],
 "metadata": {
  "interpreter": {
   "hash": "fd0f71320b117837b0562ca18416aeba1a0819e2ddff739a064b8f0fcc31a470"
  },
  "kernelspec": {
   "display_name": "Python 3.9.7 ('env': venv)",
   "language": "python",
   "name": "python3"
  },
  "language_info": {
   "codemirror_mode": {
    "name": "ipython",
    "version": 3
   },
   "file_extension": ".py",
   "mimetype": "text/x-python",
   "name": "python",
   "nbconvert_exporter": "python",
   "pygments_lexer": "ipython3",
   "version": "3.9.7"
  },
  "orig_nbformat": 4
 },
 "nbformat": 4,
 "nbformat_minor": 2
}
